{
 "cells": [
  {
   "cell_type": "code",
   "execution_count": 1,
   "metadata": {},
   "outputs": [],
   "source": [
    "import pandas as pd\n",
    "import numpy as np\n",
    "import matplotlib.pyplot as plt\n",
    "import collections\n",
    "import tensorflow as tf\n",
    "import os\n",
    "import random\n",
    "from PIL import Image\n",
    "import cv2\n",
    "import pandas as pd\n",
    "from sklearn.model_selection import train_test_split\n",
    "from tensorflow.keras.applications.vgg16 import VGG16\n",
    "from tensorflow.keras.preprocessing import image_dataset_from_directory"
   ]
  },
  {
   "cell_type": "code",
   "execution_count": 2,
   "metadata": {},
   "outputs": [],
   "source": [
    "# Load the VGG model\n",
    "vgg_model = VGG16(include_top=False)"
   ]
  },
  {
   "cell_type": "code",
   "execution_count": 3,
   "metadata": {},
   "outputs": [],
   "source": [
    "# Freeze current VGG16 model\n",
    "vgg_model.trainable = False"
   ]
  },
  {
   "cell_type": "code",
   "execution_count": 4,
   "metadata": {},
   "outputs": [
    {
     "name": "stdout",
     "output_type": "stream",
     "text": [
      "Model: \"vgg16\"\n",
      "_________________________________________________________________\n",
      "Layer (type)                 Output Shape              Param #   \n",
      "=================================================================\n",
      "input_1 (InputLayer)         [(None, None, None, 3)]   0         \n",
      "_________________________________________________________________\n",
      "block1_conv1 (Conv2D)        (None, None, None, 64)    1792      \n",
      "_________________________________________________________________\n",
      "block1_conv2 (Conv2D)        (None, None, None, 64)    36928     \n",
      "_________________________________________________________________\n",
      "block1_pool (MaxPooling2D)   (None, None, None, 64)    0         \n",
      "_________________________________________________________________\n",
      "block2_conv1 (Conv2D)        (None, None, None, 128)   73856     \n",
      "_________________________________________________________________\n",
      "block2_conv2 (Conv2D)        (None, None, None, 128)   147584    \n",
      "_________________________________________________________________\n",
      "block2_pool (MaxPooling2D)   (None, None, None, 128)   0         \n",
      "_________________________________________________________________\n",
      "block3_conv1 (Conv2D)        (None, None, None, 256)   295168    \n",
      "_________________________________________________________________\n",
      "block3_conv2 (Conv2D)        (None, None, None, 256)   590080    \n",
      "_________________________________________________________________\n",
      "block3_conv3 (Conv2D)        (None, None, None, 256)   590080    \n",
      "_________________________________________________________________\n",
      "block3_pool (MaxPooling2D)   (None, None, None, 256)   0         \n",
      "_________________________________________________________________\n",
      "block4_conv1 (Conv2D)        (None, None, None, 512)   1180160   \n",
      "_________________________________________________________________\n",
      "block4_conv2 (Conv2D)        (None, None, None, 512)   2359808   \n",
      "_________________________________________________________________\n",
      "block4_conv3 (Conv2D)        (None, None, None, 512)   2359808   \n",
      "_________________________________________________________________\n",
      "block4_pool (MaxPooling2D)   (None, None, None, 512)   0         \n",
      "_________________________________________________________________\n",
      "block5_conv1 (Conv2D)        (None, None, None, 512)   2359808   \n",
      "_________________________________________________________________\n",
      "block5_conv2 (Conv2D)        (None, None, None, 512)   2359808   \n",
      "_________________________________________________________________\n",
      "block5_conv3 (Conv2D)        (None, None, None, 512)   2359808   \n",
      "_________________________________________________________________\n",
      "block5_pool (MaxPooling2D)   (None, None, None, 512)   0         \n",
      "=================================================================\n",
      "Total params: 14,714,688\n",
      "Trainable params: 0\n",
      "Non-trainable params: 14,714,688\n",
      "_________________________________________________________________\n"
     ]
    }
   ],
   "source": [
    "vgg_model.summary()"
   ]
  },
  {
   "cell_type": "code",
   "execution_count": 5,
   "metadata": {},
   "outputs": [
    {
     "name": "stdout",
     "output_type": "stream",
     "text": [
      "['Meta', 'Meta.csv', 'Test', 'Test.csv', 'Train', 'Train.csv']\n",
      "C:\\Users\\phill\\Dropbox\\College stuff\\Masters\\Year2\\COMP09012 - Machine Learning\\Assignment 2\\github\\assignment2\\..\\data_raw\\\n"
     ]
    }
   ],
   "source": [
    "# Check datasets are found\n",
    "print(os.listdir('..\\\\data_raw'))\n",
    "cwd = os.getcwd() + \"\\\\..\\\\data_raw\\\\\"\n",
    "print(cwd)"
   ]
  },
  {
   "cell_type": "code",
   "execution_count": 6,
   "metadata": {},
   "outputs": [
    {
     "name": "stdout",
     "output_type": "stream",
     "text": [
      "C:\\Users\\phill\\Dropbox\\College stuff\\Masters\\Year2\\COMP09012 - Machine Learning\\Assignment 2\\github\\assignment2\\..\\data_raw\\\\Train\\0\n",
      "C:\\Users\\phill\\Dropbox\\College stuff\\Masters\\Year2\\COMP09012 - Machine Learning\\Assignment 2\\github\\assignment2\\..\\data_raw\\\\Train\\1\n",
      "C:\\Users\\phill\\Dropbox\\College stuff\\Masters\\Year2\\COMP09012 - Machine Learning\\Assignment 2\\github\\assignment2\\..\\data_raw\\\\Train\\2\n",
      "C:\\Users\\phill\\Dropbox\\College stuff\\Masters\\Year2\\COMP09012 - Machine Learning\\Assignment 2\\github\\assignment2\\..\\data_raw\\\\Train\\3\n",
      "C:\\Users\\phill\\Dropbox\\College stuff\\Masters\\Year2\\COMP09012 - Machine Learning\\Assignment 2\\github\\assignment2\\..\\data_raw\\\\Train\\4\n",
      "C:\\Users\\phill\\Dropbox\\College stuff\\Masters\\Year2\\COMP09012 - Machine Learning\\Assignment 2\\github\\assignment2\\..\\data_raw\\\\Train\\5\n",
      "C:\\Users\\phill\\Dropbox\\College stuff\\Masters\\Year2\\COMP09012 - Machine Learning\\Assignment 2\\github\\assignment2\\..\\data_raw\\\\Train\\6\n",
      "C:\\Users\\phill\\Dropbox\\College stuff\\Masters\\Year2\\COMP09012 - Machine Learning\\Assignment 2\\github\\assignment2\\..\\data_raw\\\\Train\\7\n",
      "C:\\Users\\phill\\Dropbox\\College stuff\\Masters\\Year2\\COMP09012 - Machine Learning\\Assignment 2\\github\\assignment2\\..\\data_raw\\\\Train\\8\n",
      "C:\\Users\\phill\\Dropbox\\College stuff\\Masters\\Year2\\COMP09012 - Machine Learning\\Assignment 2\\github\\assignment2\\..\\data_raw\\\\Train\\9\n",
      "C:\\Users\\phill\\Dropbox\\College stuff\\Masters\\Year2\\COMP09012 - Machine Learning\\Assignment 2\\github\\assignment2\\..\\data_raw\\\\Train\\10\n",
      "C:\\Users\\phill\\Dropbox\\College stuff\\Masters\\Year2\\COMP09012 - Machine Learning\\Assignment 2\\github\\assignment2\\..\\data_raw\\\\Train\\11\n",
      "C:\\Users\\phill\\Dropbox\\College stuff\\Masters\\Year2\\COMP09012 - Machine Learning\\Assignment 2\\github\\assignment2\\..\\data_raw\\\\Train\\12\n",
      "C:\\Users\\phill\\Dropbox\\College stuff\\Masters\\Year2\\COMP09012 - Machine Learning\\Assignment 2\\github\\assignment2\\..\\data_raw\\\\Train\\13\n",
      "C:\\Users\\phill\\Dropbox\\College stuff\\Masters\\Year2\\COMP09012 - Machine Learning\\Assignment 2\\github\\assignment2\\..\\data_raw\\\\Train\\14\n",
      "C:\\Users\\phill\\Dropbox\\College stuff\\Masters\\Year2\\COMP09012 - Machine Learning\\Assignment 2\\github\\assignment2\\..\\data_raw\\\\Train\\15\n",
      "C:\\Users\\phill\\Dropbox\\College stuff\\Masters\\Year2\\COMP09012 - Machine Learning\\Assignment 2\\github\\assignment2\\..\\data_raw\\\\Train\\16\n",
      "C:\\Users\\phill\\Dropbox\\College stuff\\Masters\\Year2\\COMP09012 - Machine Learning\\Assignment 2\\github\\assignment2\\..\\data_raw\\\\Train\\17\n",
      "C:\\Users\\phill\\Dropbox\\College stuff\\Masters\\Year2\\COMP09012 - Machine Learning\\Assignment 2\\github\\assignment2\\..\\data_raw\\\\Train\\18\n",
      "C:\\Users\\phill\\Dropbox\\College stuff\\Masters\\Year2\\COMP09012 - Machine Learning\\Assignment 2\\github\\assignment2\\..\\data_raw\\\\Train\\19\n",
      "C:\\Users\\phill\\Dropbox\\College stuff\\Masters\\Year2\\COMP09012 - Machine Learning\\Assignment 2\\github\\assignment2\\..\\data_raw\\\\Train\\20\n",
      "C:\\Users\\phill\\Dropbox\\College stuff\\Masters\\Year2\\COMP09012 - Machine Learning\\Assignment 2\\github\\assignment2\\..\\data_raw\\\\Train\\21\n",
      "C:\\Users\\phill\\Dropbox\\College stuff\\Masters\\Year2\\COMP09012 - Machine Learning\\Assignment 2\\github\\assignment2\\..\\data_raw\\\\Train\\22\n",
      "C:\\Users\\phill\\Dropbox\\College stuff\\Masters\\Year2\\COMP09012 - Machine Learning\\Assignment 2\\github\\assignment2\\..\\data_raw\\\\Train\\23\n",
      "C:\\Users\\phill\\Dropbox\\College stuff\\Masters\\Year2\\COMP09012 - Machine Learning\\Assignment 2\\github\\assignment2\\..\\data_raw\\\\Train\\24\n",
      "C:\\Users\\phill\\Dropbox\\College stuff\\Masters\\Year2\\COMP09012 - Machine Learning\\Assignment 2\\github\\assignment2\\..\\data_raw\\\\Train\\25\n",
      "C:\\Users\\phill\\Dropbox\\College stuff\\Masters\\Year2\\COMP09012 - Machine Learning\\Assignment 2\\github\\assignment2\\..\\data_raw\\\\Train\\26\n",
      "C:\\Users\\phill\\Dropbox\\College stuff\\Masters\\Year2\\COMP09012 - Machine Learning\\Assignment 2\\github\\assignment2\\..\\data_raw\\\\Train\\27\n",
      "C:\\Users\\phill\\Dropbox\\College stuff\\Masters\\Year2\\COMP09012 - Machine Learning\\Assignment 2\\github\\assignment2\\..\\data_raw\\\\Train\\28\n",
      "C:\\Users\\phill\\Dropbox\\College stuff\\Masters\\Year2\\COMP09012 - Machine Learning\\Assignment 2\\github\\assignment2\\..\\data_raw\\\\Train\\29\n",
      "C:\\Users\\phill\\Dropbox\\College stuff\\Masters\\Year2\\COMP09012 - Machine Learning\\Assignment 2\\github\\assignment2\\..\\data_raw\\\\Train\\30\n",
      "C:\\Users\\phill\\Dropbox\\College stuff\\Masters\\Year2\\COMP09012 - Machine Learning\\Assignment 2\\github\\assignment2\\..\\data_raw\\\\Train\\31\n",
      "C:\\Users\\phill\\Dropbox\\College stuff\\Masters\\Year2\\COMP09012 - Machine Learning\\Assignment 2\\github\\assignment2\\..\\data_raw\\\\Train\\32\n",
      "C:\\Users\\phill\\Dropbox\\College stuff\\Masters\\Year2\\COMP09012 - Machine Learning\\Assignment 2\\github\\assignment2\\..\\data_raw\\\\Train\\33\n",
      "C:\\Users\\phill\\Dropbox\\College stuff\\Masters\\Year2\\COMP09012 - Machine Learning\\Assignment 2\\github\\assignment2\\..\\data_raw\\\\Train\\34\n",
      "C:\\Users\\phill\\Dropbox\\College stuff\\Masters\\Year2\\COMP09012 - Machine Learning\\Assignment 2\\github\\assignment2\\..\\data_raw\\\\Train\\35\n",
      "C:\\Users\\phill\\Dropbox\\College stuff\\Masters\\Year2\\COMP09012 - Machine Learning\\Assignment 2\\github\\assignment2\\..\\data_raw\\\\Train\\36\n",
      "C:\\Users\\phill\\Dropbox\\College stuff\\Masters\\Year2\\COMP09012 - Machine Learning\\Assignment 2\\github\\assignment2\\..\\data_raw\\\\Train\\37\n",
      "C:\\Users\\phill\\Dropbox\\College stuff\\Masters\\Year2\\COMP09012 - Machine Learning\\Assignment 2\\github\\assignment2\\..\\data_raw\\\\Train\\38\n",
      "C:\\Users\\phill\\Dropbox\\College stuff\\Masters\\Year2\\COMP09012 - Machine Learning\\Assignment 2\\github\\assignment2\\..\\data_raw\\\\Train\\39\n",
      "C:\\Users\\phill\\Dropbox\\College stuff\\Masters\\Year2\\COMP09012 - Machine Learning\\Assignment 2\\github\\assignment2\\..\\data_raw\\\\Train\\40\n",
      "C:\\Users\\phill\\Dropbox\\College stuff\\Masters\\Year2\\COMP09012 - Machine Learning\\Assignment 2\\github\\assignment2\\..\\data_raw\\\\Train\\41\n",
      "C:\\Users\\phill\\Dropbox\\College stuff\\Masters\\Year2\\COMP09012 - Machine Learning\\Assignment 2\\github\\assignment2\\..\\data_raw\\\\Train\\42\n",
      "(39209, 50, 50, 3) (39209,)\n"
     ]
    }
   ],
   "source": [
    "# # Load Dataset\n",
    "height = 50\n",
    "width = 50\n",
    "channels = 3\n",
    "classes = 43\n",
    "n_inputs = height*width*channels\n",
    "data = []\n",
    "labels = []\n",
    "\n",
    "for i in range(classes):\n",
    "    path = cwd + \"\\\\Train\\\\\" + str(i)\n",
    "    print(path)\n",
    "    Class = os.listdir(path)\n",
    "    \n",
    "    for a in Class:\n",
    "        try:\n",
    "            image = cv2.imread(path + \"\\\\\" + a)\n",
    "            image_fromarray = Image.fromarray(image, 'RGB')\n",
    "            resize_image = image_fromarray.resize((height, width))\n",
    "            data.append(np.array(resize_image))\n",
    "            labels.append(i)\n",
    "        except:\n",
    "            print(\"Error reading image.\")\n",
    "\n",
    "            \n",
    "#Create numpy arrays from input data            \n",
    "image_data = np.array(data)\n",
    "image_labels = np.array(labels)\n",
    "\n",
    "print(image_data.shape, image_labels.shape)\n"
   ]
  },
  {
   "cell_type": "code",
   "execution_count": 7,
   "metadata": {},
   "outputs": [],
   "source": [
    "# # Split up the data in train and test\n",
    "x_train, x_test, y_train, y_test = train_test_split(image_data, image_labels, test_size=0.2, random_state=42, shuffle=True)"
   ]
  },
  {
   "cell_type": "code",
   "execution_count": 8,
   "metadata": {},
   "outputs": [
    {
     "name": "stdout",
     "output_type": "stream",
     "text": [
      "(31367, 50, 50, 3)\n",
      "(7842, 50, 50, 3)\n",
      "(31367,)\n",
      "(7842,)\n",
      "(31367, 50, 50, 3)\n",
      "(7842, 50, 50, 3)\n",
      "(31367, 43)\n",
      "(7842, 43)\n"
     ]
    }
   ],
   "source": [
    "# Normalalize data\n",
    "print(x_train.shape)\n",
    "print(x_test.shape)\n",
    "print(y_train.shape)\n",
    "print(y_test.shape)\n",
    "y_train = tf.keras.utils.to_categorical(y_train, 43)\n",
    "y_test = tf.keras.utils.to_categorical(y_test, 43)\n",
    "# x_train = x_train/255\n",
    "# x_test = x_test/255\n",
    "print(x_train.shape)\n",
    "print(x_test.shape)\n",
    "print(y_train.shape)\n",
    "print(y_test.shape)"
   ]
  },
  {
   "cell_type": "code",
   "execution_count": 9,
   "metadata": {},
   "outputs": [],
   "source": [
    "# Create a new model and add a classification Header\n",
    "end = vgg_model.layers[-1].output\n",
    "model = tf.keras.Model(vgg_model.input, end)"
   ]
  },
  {
   "cell_type": "code",
   "execution_count": 11,
   "metadata": {},
   "outputs": [],
   "source": [
    "# Modelling\n",
    "model = tf.keras.models.Sequential()\n",
    "model.add(tf.keras.layers.Flatten())\n",
    "model.add(tf.keras.layers.Dense(100, activation=tf.nn.relu))\n",
    "model.add(tf.keras.layers.Dropout(0.3))\n",
    "model.add(tf.keras.layers.Dense(128, activation=tf.nn.relu))\n",
    "model.add(tf.keras.layers.Dense(43, activation=tf.nn.softmax))\n"
   ]
  },
  {
   "cell_type": "code",
   "execution_count": 12,
   "metadata": {},
   "outputs": [],
   "source": [
    "# Paramertise\n",
    "model.compile(optimizer='adam',\n",
    "             loss='categorical_crossentropy',\n",
    "             metrics=['accuracy'])"
   ]
  },
  {
   "cell_type": "code",
   "execution_count": 16,
   "metadata": {},
   "outputs": [],
   "source": [
    "# # Normalize\n",
    "x_train = tf.keras.utils.normalize(x_train, axis=1)\n",
    "x_test = tf.keras.utils.normalize(x_test, axis=1)\n",
    "y_train = tf.keras.utils.normalize(y_train, axis=1)\n",
    "y_test = tf.keras.utils.normalize(y_test, axis=1)"
   ]
  },
  {
   "cell_type": "code",
   "execution_count": 25,
   "metadata": {},
   "outputs": [
    {
     "name": "stdout",
     "output_type": "stream",
     "text": [
      "Epoch 1/20\n",
      "32/32 [==============================] - 1s 36ms/step - loss: 0.5894 - accuracy: 0.8219 - val_loss: 0.3945 - val_accuracy: 0.9012\n",
      "Epoch 2/20\n",
      "32/32 [==============================] - 1s 28ms/step - loss: 0.5814 - accuracy: 0.8248 - val_loss: 0.3694 - val_accuracy: 0.9088\n",
      "Epoch 3/20\n",
      "32/32 [==============================] - 1s 27ms/step - loss: 0.5619 - accuracy: 0.8314 - val_loss: 0.3698 - val_accuracy: 0.9059\n",
      "Epoch 4/20\n",
      "32/32 [==============================] - 1s 26ms/step - loss: 0.5648 - accuracy: 0.8299 - val_loss: 0.3890 - val_accuracy: 0.8944\n",
      "Epoch 5/20\n",
      "32/32 [==============================] - 1s 29ms/step - loss: 0.5419 - accuracy: 0.8377 - val_loss: 0.3564 - val_accuracy: 0.9039\n",
      "Epoch 6/20\n",
      "32/32 [==============================] - 1s 29ms/step - loss: 0.5258 - accuracy: 0.8435 - val_loss: 0.3410 - val_accuracy: 0.9100\n",
      "Epoch 7/20\n",
      "32/32 [==============================] - 1s 27ms/step - loss: 0.5191 - accuracy: 0.8414 - val_loss: 0.3480 - val_accuracy: 0.9162\n",
      "Epoch 8/20\n",
      "32/32 [==============================] - 1s 27ms/step - loss: 0.5029 - accuracy: 0.8470 - val_loss: 0.3375 - val_accuracy: 0.9106\n",
      "Epoch 9/20\n",
      "32/32 [==============================] - 1s 27ms/step - loss: 0.4945 - accuracy: 0.8482 - val_loss: 0.3115 - val_accuracy: 0.9213\n",
      "Epoch 10/20\n",
      "32/32 [==============================] - 1s 28ms/step - loss: 0.4908 - accuracy: 0.8508 - val_loss: 0.3161 - val_accuracy: 0.9180\n",
      "Epoch 11/20\n",
      "32/32 [==============================] - 1s 26ms/step - loss: 0.4799 - accuracy: 0.8549 - val_loss: 0.3128 - val_accuracy: 0.9211\n",
      "Epoch 12/20\n",
      "32/32 [==============================] - 1s 27ms/step - loss: 0.4713 - accuracy: 0.8593 - val_loss: 0.2986 - val_accuracy: 0.9230\n",
      "Epoch 13/20\n",
      "32/32 [==============================] - 1s 28ms/step - loss: 0.4652 - accuracy: 0.8583 - val_loss: 0.3349 - val_accuracy: 0.9081\n",
      "Epoch 14/20\n",
      "32/32 [==============================] - 1s 28ms/step - loss: 0.4696 - accuracy: 0.8572 - val_loss: 0.3079 - val_accuracy: 0.9156\n",
      "Epoch 15/20\n",
      "32/32 [==============================] - 1s 29ms/step - loss: 0.4457 - accuracy: 0.8637 - val_loss: 0.2916 - val_accuracy: 0.9239\n",
      "Epoch 16/20\n",
      "32/32 [==============================] - 1s 27ms/step - loss: 0.4501 - accuracy: 0.8632 - val_loss: 0.2924 - val_accuracy: 0.9226\n",
      "Epoch 17/20\n",
      "32/32 [==============================] - 1s 28ms/step - loss: 0.4560 - accuracy: 0.8604 - val_loss: 0.2925 - val_accuracy: 0.9194\n",
      "Epoch 18/20\n",
      "32/32 [==============================] - 1s 30ms/step - loss: 0.4431 - accuracy: 0.8629 - val_loss: 0.2823 - val_accuracy: 0.9262\n",
      "Epoch 19/20\n",
      "32/32 [==============================] - 1s 31ms/step - loss: 0.4314 - accuracy: 0.8683 - val_loss: 0.2872 - val_accuracy: 0.9167\n",
      "Epoch 20/20\n",
      "32/32 [==============================] - 1s 30ms/step - loss: 0.4160 - accuracy: 0.8737 - val_loss: 0.2693 - val_accuracy: 0.9282\n"
     ]
    },
    {
     "data": {
      "text/plain": [
       "<tensorflow.python.keras.callbacks.History at 0x2206f3ccec8>"
      ]
     },
     "execution_count": 25,
     "metadata": {},
     "output_type": "execute_result"
    }
   ],
   "source": [
    "# Train the model\n",
    "model.fit(x_train, y_train, batch_size=1000,\n",
    "          validation_data=(x_test, y_test), epochs=20)"
   ]
  },
  {
   "cell_type": "code",
   "execution_count": 26,
   "metadata": {},
   "outputs": [
    {
     "name": "stdout",
     "output_type": "stream",
     "text": [
      "246/246 [==============================] - 0s 1ms/step - loss: 0.2693 - accuracy: 0.9282\n",
      "[0.26925966143608093, 0.9282070994377136]\n"
     ]
    }
   ],
   "source": [
    "# Evaluation\n",
    "score = model.evaluate(x_test, y_test)\n",
    "print(score)"
   ]
  },
  {
   "cell_type": "code",
   "execution_count": 27,
   "metadata": {},
   "outputs": [
    {
     "name": "stdout",
     "output_type": "stream",
     "text": [
      "Model: \"sequential\"\n",
      "_________________________________________________________________\n",
      "Layer (type)                 Output Shape              Param #   \n",
      "=================================================================\n",
      "flatten (Flatten)            (None, 7500)              0         \n",
      "_________________________________________________________________\n",
      "dense (Dense)                (None, 100)               750100    \n",
      "_________________________________________________________________\n",
      "dropout (Dropout)            (None, 100)               0         \n",
      "_________________________________________________________________\n",
      "dense_1 (Dense)              (None, 128)               12928     \n",
      "_________________________________________________________________\n",
      "dense_2 (Dense)              (None, 43)                5547      \n",
      "=================================================================\n",
      "Total params: 768,575\n",
      "Trainable params: 768,575\n",
      "Non-trainable params: 0\n",
      "_________________________________________________________________\n"
     ]
    }
   ],
   "source": [
    "model.summary()"
   ]
  }
 ],
 "metadata": {
  "kernelspec": {
   "display_name": "Python 3",
   "language": "python",
   "name": "python3"
  },
  "language_info": {
   "codemirror_mode": {
    "name": "ipython",
    "version": 3
   },
   "file_extension": ".py",
   "mimetype": "text/x-python",
   "name": "python",
   "nbconvert_exporter": "python",
   "pygments_lexer": "ipython3",
   "version": "3.7.4"
  }
 },
 "nbformat": 4,
 "nbformat_minor": 2
}
